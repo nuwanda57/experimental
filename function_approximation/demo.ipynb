{
 "cells": [
  {
   "cell_type": "markdown",
   "metadata": {},
   "source": [
    "__2 experiment:__\n",
    "\n",
    "$f(x)=exp(-x_1^2 - 0.5(x_2 - 1)x_2)$\n",
    "\n",
    "$\\hat{f}(x)$ - linear combination of Chebyshev polynomials/their miltiplication\n",
    "\n",
    "points from uniform distribution from $[-2, 2] \\times [-2, 2]$"
   ]
  },
  {
   "cell_type": "markdown",
   "metadata": {},
   "source": [
    "Рассмотрим задачу аппроксимации функции $f(x)=exp(-x_1^2 - 0.5(x_2 - 1)x_2)$ полиномами Чебышева - полиномами вида: \n",
    "$T_0(x) = 1$, $T_1(x)=x$, $T_{n+1}(x) = 2xT_n(x) - T_{n-1}(x)$ на $[-2, 2]^2$.\n",
    "\n",
    "В классическом подходе: $f(x) \\approx \\hat{f}(x) = \\sum_{i=1}^{M}{\\alpha_{i}P_i(x)}$, где $\\alpha_i$ могут быть найдены с помощью метода наименьших квадратов, который будет уменьшать норму остатков в выбранных точках множества $[-2, 2]^2$: $\\sum{(f(x_i) - \\hat{f}(x_i))^2} \\to \\min$.\n",
    "\n",
    "Рассмотрим другой подход, использующий информацию о градиентах функции f.\n",
    "Будем решать следующую задачу: $A\\alpha = F$, где $\\alpha = (\\alpha_1, \\alpha_2, \\dots, \\alpha_M)^T$ - вектор весов, упомянутых выше. Назовем множество выбранных точек из $[-2, 2]^2$ множеством $G=\\{(g_{1,1}, g_{1,2}), (g_{2,1}, g_{2,2}), \\dots, (g_{k,1}, g_{k,2})\\}$. Тогда $F$ - вектор размерности $3k$, состоящий из значений функции $F$ в точках множества $G$ и градиентов в этих же точках сначала по $x_1$, потом по $x_2$:\n",
    "\n",
    "$$\n",
    "F = \\left(f(g_{1,1}, g_{1,2}), f(g_{2,1}, g_{2,2}), \\dots, f(g_{k,1}, g_{k,2}), d_{x1}f(g_{1,1}, g_{1,2}),\n",
    "d_{x1}f(g_{2,1}, g_{2,2}), \\dots, d_{x1}f(g_{k,1}, g_{k,2}), d_{x2}f(g_{1,1}, g_{1,2}),\n",
    " \\dots, d_{x2}f(g_{k,1}, g_{k,2})\n",
    "\\right).\n",
    "$$\n",
    "\n",
    "А матрица $A$ имеет вид:\n",
    "\n",
    "$$\n",
    "A=\n",
    "\\begin{bmatrix}\n",
    "    P_{1}(g_{1,1}, g_{1,2}) & P_{2}(g_{1,1}, g_{1,2}) & \\dots  & P_{M}(g_{1,1}, g_{1,2}) \\\\\n",
    "    P_{1}(g_{2,1}, g_{2,2}) & P_{2}(g_{2,1}, g_{2,2}) & \\dots  & P_{M}(g_{2,1}, g_{2,2}) \\\\\n",
    "    \\vdots & \\vdots & \\ddots & \\vdots \\\\\n",
    "    P_{1}(g_{k,1}, g_{k,2}) & P_{2}(g_{k,1}, g_{k,2}) & \\dots  & P_{M}(g_{k,1}, g_{k,2}) \\\\\n",
    "    d_{x_1}P_{1}(g_{1,1}, g_{1,2}) & d_{x_1}P_{2}(g_{1,1}, g_{1,2}) & \\dots  & d_{x_1}P_{M}(g_{1,1}, g_{1,2}) \\\\\n",
    "    d_{x_1}P_{1}(g_{2,1}, g_{2,2}) & d_{x_1}P_{2}(g_{2,1}, g_{2,2}) & \\dots  & d_{x_1}P_{M}(g_{2,1}, g_{2,2}) \\\\\n",
    "    \\vdots & \\vdots & \\ddots & \\vdots \\\\\n",
    "    d_{x_1}P_{1}(g_{k,1}, g_{k,2}) & d_{x_1}P_{2}(g_{k,1}, g_{k,2}) & \\dots  & d_{x_1}P_{M}(g_{k,1}, g_{k,2}) \\\\\n",
    "    d_{x_2}P_{1}(g_{1,1}, g_{1,2}) & d_{x_2}P_{2}(g_{1,1}, g_{1,2}) & \\dots  & d_{x_2}P_{M}(g_{1,1}, g_{1,2}) \\\\\n",
    "    d_{x_2}P_{1}(g_{2,1}, g_{2,2}) & d_{x_2}P_{2}(g_{2,1}, g_{2,2}) & \\dots  & d_{x_2}P_{M}(g_{2,1}, g_{2,2}) \\\\\n",
    "    \\vdots & \\vdots & \\ddots & \\vdots \\\\\n",
    "    d_{x_2}P_{1}(g_{k,1}, g_{k,2}) & d_{x_2}P_{2}(g_{k,1}, g_{k,2}) & \\dots  & d_{x_2}P_{M}(g_{k,1}, g_{k,2}) \\\\\n",
    "\\end{bmatrix}\n",
    "$$"
   ]
  },
  {
   "cell_type": "code",
   "execution_count": 2,
   "metadata": {},
   "outputs": [],
   "source": [
    "import numpy as np\n",
    "import random\n",
    "import matplotlib.pyplot as plt\n",
    "from sklearn.linear_model import LinearRegression, SGDRegressor, Ridge\n",
    "from sklearn.metrics import accuracy_score"
   ]
  },
  {
   "cell_type": "code",
   "execution_count": 3,
   "metadata": {},
   "outputs": [],
   "source": [
    "import types\n",
    "import functools\n",
    "def copy_func(f):\n",
    "    g = types.FunctionType(f.__code__, f.__globals__, name=f.__name__,\n",
    "                           argdefs=f.__defaults__,\n",
    "                           closure=f.__closure__)\n",
    "    g = functools.update_wrapper(g, f)\n",
    "    g.__kwdefaults__ = f.__kwdefaults__\n",
    "    return g\n",
    "\n",
    "def f(x1, x2):\n",
    "    return np.exp(-np.power(x1, 2) - 0.5 * (x2 - 1) * x2)\n",
    "\n",
    "def d_f1(x1, x2):\n",
    "    return np.exp(-np.power(x1, 2) - 0.5 * (x2 - 1) * x2) * (-2*x1)\n",
    "\n",
    "def d_f2(x1, x2):\n",
    "    return np.exp(-np.power(x1, 2) - 0.5 * (x2 - 1) * x2) * (-x2 + 0.5)\n",
    "\n",
    "def P(x, n):\n",
    "#     print(n)\n",
    "    if n == 0:\n",
    "        return 1\n",
    "    if n == 1:\n",
    "        return x\n",
    "    return 2 * x * P(x, n - 1) - P(x, n - 2)\n",
    "\n",
    "def P_wrapper(n, is_first_arg, func):\n",
    "    t = copy_func(func)\n",
    "    t.__defaults__ = (n,)\n",
    "    if is_first_arg:\n",
    "        return lambda x1, x2: t(x1)\n",
    "    return lambda x1, x2: t(x2)\n",
    "\n",
    "def P_wrapper_comb(n1, n2, func1, func2):\n",
    "    t1 = copy_func(func1)\n",
    "    t1.__defaults__ = (n1,)\n",
    "    t2 = copy_func(func2)\n",
    "    t2.__defaults__ = (n2,)\n",
    "    return lambda x1, x2: t1(x1) * t2(x2)\n",
    "\n",
    "def d_P(x, n):\n",
    "    if n == 0:\n",
    "        return 0\n",
    "    if n == 1:\n",
    "        return 1\n",
    "    return 2 * x * d_P(x, n - 1) + 2 * P(x, n - 1) - d_P(x, n - 2)"
   ]
  },
  {
   "cell_type": "code",
   "execution_count": 4,
   "metadata": {},
   "outputs": [],
   "source": [
    "def build_P_polynoms():\n",
    "    P_polynoms = []\n",
    "    for deg in range(20):\n",
    "        P_polynoms.append(P_wrapper(deg, True, P))\n",
    "        t = P_polynoms[0]\n",
    "        P_polynoms.append(P_wrapper(deg, False, P))\n",
    "        \n",
    "        for first_monom_deg in range(1, (deg + 1) // 2):\n",
    "            P_polynoms.append(P_wrapper_comb(first_monom_deg, deg - first_monom_deg, P, P))\n",
    "            if first_monom_deg * 2 != deg:\n",
    "                P_polynoms.append(P_wrapper_comb(deg - first_monom_deg, first_monom_deg, P, P))\n",
    "    return P_polynoms\n",
    "\n",
    "def build_d1_P_polynoms():\n",
    "    P_polynoms = []\n",
    "    for deg in range(20):\n",
    "        P_polynoms.append(P_wrapper(deg, True, d_P))\n",
    "        P_polynoms.append(lambda x1, x2: 0)\n",
    "        \n",
    "        for first_monom_deg in range(1, (deg + 1) // 2):\n",
    "            P_polynoms.append(P_wrapper_comb(first_monom_deg, deg - first_monom_deg, d_P, P))\n",
    "            if first_monom_deg * 2 != deg:\n",
    "                P_polynoms.append(P_wrapper_comb(deg - first_monom_deg, first_monom_deg, d_P, P))\n",
    "    return P_polynoms\n",
    "\n",
    "def build_d2_P_polynoms():\n",
    "    P_polynoms = []\n",
    "    for deg in range(20):\n",
    "        P_polynoms.append(lambda x1, x2: 0)\n",
    "        P_polynoms.append(P_wrapper(deg, False, d_P))\n",
    "        \n",
    "        for first_monom_deg in range(1, (deg + 1) // 2):\n",
    "            P_polynoms.append(P_wrapper_comb(first_monom_deg, deg - first_monom_deg, P, d_P))\n",
    "            if first_monom_deg * 2 != deg:\n",
    "                P_polynoms.append(P_wrapper_comb(deg - first_monom_deg, first_monom_deg, P, d_P))\n",
    "    return P_polynoms"
   ]
  },
  {
   "cell_type": "code",
   "execution_count": 5,
   "metadata": {},
   "outputs": [],
   "source": [
    "P_polynoms = build_P_polynoms()\n",
    "d1_P_polynoms = build_d1_P_polynoms()\n",
    "d2_P_polynoms = build_d2_P_polynoms()"
   ]
  },
  {
   "cell_type": "code",
   "execution_count": 6,
   "metadata": {},
   "outputs": [
    {
     "data": {
      "text/plain": [
       "1"
      ]
     },
     "execution_count": 6,
     "metadata": {},
     "output_type": "execute_result"
    }
   ],
   "source": [
    "P_polynoms[0](99, 100)"
   ]
  },
  {
   "cell_type": "code",
   "execution_count": 13,
   "metadata": {},
   "outputs": [],
   "source": [
    "def get_mean_l2_norm(size=50, p_count=5):\n",
    "    SIZE = size\n",
    "    P_COUNT = p_count\n",
    "    \n",
    "    mean_with_grad = []\n",
    "    mean_no_grad = []\n",
    "    for i in range(50):\n",
    "        points = np.random.uniform(low=(-2, -2), high=(2, 2), size=(SIZE, 2))\n",
    "        x1s = points[:,0]\n",
    "        x2s = points[:,1]\n",
    "        F_with_grad = np.array(\n",
    "            [f(p[0], p[1]) for p in points] + \\\n",
    "            [d_f1(p[0], p[1]) for p in points] + \\\n",
    "            [d_f2(p[0], p[1]) for p in points])\n",
    "        F_no_grad = np.array([f(p[0], p[1]) for p in points])\n",
    "        A_with_grad = np.array(\n",
    "            [[P_polynoms[i](p[0], p[1]) for i in range(P_COUNT)] for p in points] + \\\n",
    "            [[d1_P_polynoms[i](p[0], p[1]) for i in range(P_COUNT)] for p in points] + \\\n",
    "            [[d2_P_polynoms[i](p[0], p[1]) for i in range(P_COUNT)] for p in points])\n",
    "        A_no_grad = np.array([[P_polynoms[i](p[0], p[1]) for i in range(P_COUNT)] for p in points])\n",
    "        r_with_grad = LinearRegression()\n",
    "        r_no_grad = LinearRegression()\n",
    "        r_with_grad.fit(A_with_grad, F_with_grad)\n",
    "        r_no_grad.fit(A_no_grad, F_no_grad)\n",
    "        def f_model_with_grad(x1, x2):\n",
    "            return np.sum([r_with_grad.coef_[i] * P_polynoms[i](x1, x2) for i in range(P_COUNT)]) + r_with_grad.intercept_\n",
    "\n",
    "        def f_model_no_grad(x1, x2):\n",
    "            return np.sum([r_no_grad.coef_[i] * P_polynoms[i](x1, x2) for i in range(P_COUNT)]) + r_no_grad.intercept_\n",
    "\n",
    "        test_points = np.random.uniform(low=(-2, -2), high=(2, 2), size=(SIZE, 2))\n",
    "        test_x1s = points[:,0]\n",
    "        test_x2s = points[:,1]\n",
    "        mean_with_grad.append(\n",
    "            np.linalg.norm(np.array([f(p[0], p[1]) for p in test_points]) - np.array([f_model_with_grad(p[0], p[1]) for p in test_points])))\n",
    "        mean_no_grad.append(\n",
    "            np.linalg.norm(np.array([f(p[0], p[1]) for p in test_points]) - np.array([f_model_no_grad(p[0], p[1]) for p in test_points])))\n",
    "        \n",
    "#         print(mean_no_grad[-1], end=' ')\n",
    "#         print(np.linalg.norm(np.array([f(p[0], p[1]) for p in test_points]) - r_no_grad.predict(np.array([[P_polynoms[i](p[0], p[1]) for i in range(P_COUNT)] for p in test_points]))), end=' - ')\n",
    "#         print(mean_with_grad[-1], end=' ')\n",
    "#         print(np.linalg.norm(np.array([f(p[0], p[1]) for p in test_points]) - r_with_grad.predict(np.array([[P_polynoms[i](p[0], p[1]) for i in range(P_COUNT)] for p in test_points]))))\n",
    "    \n",
    "        \n",
    "    return np.mean(mean_with_grad), np.mean(mean_no_grad), np.var(mean_with_grad), np.var(mean_no_grad)"
   ]
  },
  {
   "cell_type": "code",
   "execution_count": 10,
   "metadata": {},
   "outputs": [
    {
     "data": {
      "text/plain": [
       "(0.7660663531710603,\n",
       " 1.7324333532910299,\n",
       " 0.01608289248537632,\n",
       " 1.1575325511191776)"
      ]
     },
     "execution_count": 10,
     "metadata": {},
     "output_type": "execute_result"
    }
   ],
   "source": [
    "get_mean_l2_norm(size=200, p_count=50)"
   ]
  },
  {
   "cell_type": "code",
   "execution_count": 14,
   "metadata": {},
   "outputs": [
    {
     "name": "stdout",
     "output_type": "stream",
     "text": [
      "1,2,3,4,5,6,7,8,9,10,11,12,13,14,15,16,17,18,19,20,21,22,23,24,25,26,27,28,29,30,31,32,33,34,35,36,37,38,39,40,41,42,43,44,"
     ]
    },
    {
     "data": {
      "image/png": "[encoded data removed]",
      "text/plain": [
       "<Figure size 1440x720 with 1 Axes>"
      ]
     },
     "metadata": {
      "needs_background": "light"
     },
     "output_type": "display_data"
    }
   ],
   "source": [
    "plt.figure(figsize=(20,10))\n",
    "sample_size = 200\n",
    "mean_with_grad_res = []\n",
    "mean_no_grad_res = []\n",
    "var_with_grad_res = []\n",
    "var_no_grad_res = []\n",
    "p_counts = np.arange(1, 45,1)\n",
    "for p_count in p_counts:\n",
    "    print(p_count, end=',')\n",
    "    mean_with_grad, mean_no_grad, var_with_grad, var_no_grad = get_mean_l2_norm(sample_size, p_count)\n",
    "    mean_with_grad_res.append(mean_with_grad)\n",
    "    mean_no_grad_res.append(mean_no_grad)\n",
    "    var_with_grad_res.append(var_with_grad)\n",
    "    var_no_grad_res.append(var_no_grad)\n",
    "\n",
    "plt.title('Mean norm. Variances are big')\n",
    "plt.plot(p_counts, mean_with_grad_res, label='with grad')\n",
    "plt.plot(p_counts, mean_no_grad_res, label='no grad')\n",
    "plt.xlabel('max polynom degree')\n",
    "plt.ylabel('mean l2-norm')\n",
    "plt.legend()\n",
    "plt.show()"
   ]
  },
  {
   "cell_type": "code",
   "execution_count": null,
   "metadata": {},
   "outputs": [],
   "source": []
  }
 ],
 "metadata": {
  "kernelspec": {
   "display_name": "Python 3",
   "language": "python",
   "name": "python3"
  },
  "language_info": {
   "codemirror_mode": {
    "name": "ipython",
    "version": 3
   },
   "file_extension": ".py",
   "mimetype": "text/x-python",
   "name": "python",
   "nbconvert_exporter": "python",
   "pygments_lexer": "ipython3",
   "version": "3.7.3"
  }
 },
 "nbformat": 4,
 "nbformat_minor": 2
}
